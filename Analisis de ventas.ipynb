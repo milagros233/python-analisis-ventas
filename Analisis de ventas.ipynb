{
 "cells": [
  {
   "cell_type": "code",
   "execution_count": null,
   "id": "4a77917f",
   "metadata": {},
   "outputs": [],
   "source": [
    "#se realizara un analisis de ventas, son archivos csv que se encuentran separado un archivo por mes"
   ]
  },
  {
   "cell_type": "code",
   "execution_count": null,
   "id": "b4274450",
   "metadata": {},
   "outputs": [],
   "source": [
    "import pandas as pd\n",
    "import os \n",
    "import matplotlib.pyplot as plt"
   ]
  },
  {
   "cell_type": "markdown",
   "id": "50dfb363",
   "metadata": {},
   "source": [
    "### Tarea 1: combinar los 12 meses de datos de ventas en un solo csv y luego leer el nuevo archivo"
   ]
  },
  {
   "cell_type": "code",
   "execution_count": null,
   "id": "8703e6f6",
   "metadata": {},
   "outputs": [],
   "source": [
    "path= \"C:/Users/milag/proyectos-python/Analisis-Ventas/Ventas-data\"\n",
    "files= os.listdir(path)\n",
    "DF= pd.DataFrame()\n",
    "for file in files :\n",
    "    df= pd.read_csv(path+\"/\"+file)\n",
    "    DF=pd.concat([df,DF])\n",
    "DF.to_csv(r'C:\\Users\\milag\\proyectos-python\\Analisis-Ventas\\ventas_12meses.csv',index=False)\n"
   ]
  },
  {
   "cell_type": "code",
   "execution_count": null,
   "id": "e4eae275",
   "metadata": {},
   "outputs": [],
   "source": [
    "#leer el nuevo archivo\n",
    "data_completa= pd.read_csv(r'C:\\Users\\milag\\proyectos-python\\Analisis-Ventas\\ventas_12meses.csv')"
   ]
  },
  {
   "cell_type": "code",
   "execution_count": null,
   "id": "b90c672d",
   "metadata": {},
   "outputs": [],
   "source": [
    "data_completa.head()"
   ]
  },
  {
   "cell_type": "markdown",
   "id": "3bc23151",
   "metadata": {},
   "source": [
    "### Tarea2: limpieza y transformación de la data "
   ]
  },
  {
   "cell_type": "code",
   "execution_count": null,
   "id": "9b72c105",
   "metadata": {},
   "outputs": [],
   "source": [
    "#verificar cuanta data de las columnas del df estan vacias\n",
    "data_completa.isnull().sum()"
   ]
  },
  {
   "cell_type": "code",
   "execution_count": null,
   "id": "72baa6b8",
   "metadata": {},
   "outputs": [],
   "source": [
    "#eliminar las filas vacias \n",
    "#0 filas\n",
    "data_completa.dropna(axis=0, how='any',inplace=True)"
   ]
  },
  {
   "cell_type": "code",
   "execution_count": null,
   "id": "f0bec6f0",
   "metadata": {},
   "outputs": [],
   "source": [
    "#verificar cuanta data de las columnas del df estan vacias\n",
    "data_completa.isnull().sum()"
   ]
  },
  {
   "cell_type": "code",
   "execution_count": null,
   "id": "3c581e31",
   "metadata": {},
   "outputs": [],
   "source": [
    "#cambiar el tipo de dato\n",
    "#primero verificar el continido \n",
    "data_completa['Quantity Ordered'].value_counts()"
   ]
  },
  {
   "cell_type": "code",
   "execution_count": null,
   "id": "7d90da3d",
   "metadata": {},
   "outputs": [],
   "source": [
    "#eliminar las filas que tienen por dato los nombres de la columna\n",
    "# se obtienes los indices data_completa[data_completa['Quantity Ordered']== 'Quantity Ordered'].index\n",
    "data_completa.drop(data_completa[data_completa['Quantity Ordered']== 'Quantity Ordered'].index,axis=0, inplace=True)"
   ]
  },
  {
   "cell_type": "code",
   "execution_count": null,
   "id": "a15f66f3",
   "metadata": {},
   "outputs": [],
   "source": [
    "#NOTA: se tiene la data del 0 al 2  data_completa.iloc[:3]"
   ]
  },
  {
   "cell_type": "code",
   "execution_count": null,
   "id": "def75848",
   "metadata": {},
   "outputs": [],
   "source": [
    "#verificando que la data se haya eliminado\n",
    "data_completa[data_completa['Quantity Ordered']== 'Quantity Ordered']"
   ]
  },
  {
   "cell_type": "code",
   "execution_count": null,
   "id": "f5830432",
   "metadata": {},
   "outputs": [],
   "source": [
    "#verificar que tipo de datos tienen las columnas\n",
    "data_completa.dtypes"
   ]
  },
  {
   "cell_type": "code",
   "execution_count": null,
   "id": "f4c7ad5e",
   "metadata": {},
   "outputs": [],
   "source": [
    "#cambio de tipo\n",
    "data_completa['Quantity Ordered']= data_completa['Quantity Ordered'].astype(int)\n",
    "data_completa['Price Each']= data_completa['Price Each'].astype(float)\n",
    "data_completa['Order Date']= pd.to_datetime(data_completa['Order Date'])"
   ]
  },
  {
   "cell_type": "code",
   "execution_count": null,
   "id": "02a5eb48",
   "metadata": {},
   "outputs": [],
   "source": [
    "#verificar el cambio de tipo de datos\n",
    "data_completa.dtypes"
   ]
  },
  {
   "cell_type": "markdown",
   "id": "71d6527a",
   "metadata": {},
   "source": [
    "### Tarea 3: Analisis "
   ]
  },
  {
   "cell_type": "markdown",
   "id": "fd31815d",
   "metadata": {},
   "source": [
    "### ¿Cuál fue el mejor mes en venta?¿ Cuanto se gano ese mes?"
   ]
  },
  {
   "cell_type": "code",
   "execution_count": null,
   "id": "83da46cd",
   "metadata": {},
   "outputs": [],
   "source": [
    "#crear una nueva columna del mes\n",
    "data_completa['Month Order']=data_completa['Order Date'].dt.month"
   ]
  },
  {
   "cell_type": "code",
   "execution_count": null,
   "id": "5a17a0a4",
   "metadata": {},
   "outputs": [],
   "source": [
    "#crear una nueva columna de las ventas\n",
    "data_completa['Sales']= data_completa['Quantity Ordered']*data_completa['Price Each']"
   ]
  },
  {
   "cell_type": "code",
   "execution_count": null,
   "id": "1d5c1a13",
   "metadata": {},
   "outputs": [],
   "source": [
    "data_completa"
   ]
  },
  {
   "cell_type": "code",
   "execution_count": null,
   "id": "3831a1ce",
   "metadata": {},
   "outputs": [],
   "source": [
    "data_completa.groupby(by='Month Order').sum().sort_values(by='Sales',ascending=False)"
   ]
  },
  {
   "cell_type": "code",
   "execution_count": null,
   "id": "8251b3b1",
   "metadata": {},
   "outputs": [],
   "source": [
    "meses= range(1,13)\n",
    "ventas= data_completa.groupby(by='Month Order').sum()['Sales']"
   ]
  },
  {
   "cell_type": "code",
   "execution_count": null,
   "id": "da174ba1",
   "metadata": {},
   "outputs": [],
   "source": [
    "#verlo en grafica\n",
    "plt.bar(meses,ventas)\n",
    "plt.xlabel(\"MESES\")\n",
    "plt.ylabel(\"VENTAS\")\n",
    "plt.show()"
   ]
  },
  {
   "cell_type": "markdown",
   "id": "f4a6bb7e",
   "metadata": {},
   "source": [
    "#### el mes en donde mas se vendio fue diciembre"
   ]
  },
  {
   "cell_type": "markdown",
   "id": "0170c2b1",
   "metadata": {},
   "source": [
    "### ¿Que ciudad tuvo mayor ventas?"
   ]
  },
  {
   "cell_type": "code",
   "execution_count": null,
   "id": "e371cc74",
   "metadata": {},
   "outputs": [],
   "source": [
    "#agregar columna ciudad\n",
    "def obtener_ciudad(city):\n",
    "    return city.str.split(\",\", expand=True)[1]\n",
    "    \n",
    "def obtener_estado(estado):\n",
    "    return estado.str.split(\",\", expand=True)[2]\n",
    "data_completa['City']=obtener_ciudad(data_completa['Purchase Address'])+' '+obtener_estado(data_completa['Purchase Address'])\n"
   ]
  },
  {
   "cell_type": "code",
   "execution_count": null,
   "id": "16d9421b",
   "metadata": {},
   "outputs": [],
   "source": [
    "data_completa"
   ]
  },
  {
   "cell_type": "code",
   "execution_count": null,
   "id": "0effed97",
   "metadata": {},
   "outputs": [],
   "source": [
    "data_completa.groupby(by='City').sum().sort_values(by='Sales',ascending=False)"
   ]
  },
  {
   "cell_type": "code",
   "execution_count": null,
   "id": "f8dd3d10",
   "metadata": {},
   "outputs": [],
   "source": [
    "ventas_ciudad=data_completa.groupby('City').sum()['Sales']\n",
    "ciudades=[ciudad for ciudad, df in data_completa.groupby('City')]"
   ]
  },
  {
   "cell_type": "code",
   "execution_count": null,
   "id": "633ff868",
   "metadata": {},
   "outputs": [],
   "source": [
    "#verlo en grafica\n",
    "plt.bar(ciudades,ventas_ciudad)\n",
    "plt.xticks(ciudades,rotation='vertical', size=8)\n",
    "plt.xlabel(\"ciudades\")\n",
    "plt.ylabel(\"ventas\")\n",
    "plt.show()"
   ]
  },
  {
   "cell_type": "markdown",
   "id": "94d6ae74",
   "metadata": {},
   "source": [
    "#### la ciudad de mas ventas es San Francisco CA 94016\t"
   ]
  },
  {
   "cell_type": "markdown",
   "id": "9eb571f8",
   "metadata": {},
   "source": [
    "### ¿A qué hora debemos mostrar anuncios para maximizar la probabilidad de que el cliente compre el producto?"
   ]
  },
  {
   "cell_type": "code",
   "execution_count": null,
   "id": "a0dd9736",
   "metadata": {},
   "outputs": [],
   "source": [
    "data_completa"
   ]
  },
  {
   "cell_type": "code",
   "execution_count": null,
   "id": "d0dd4c86",
   "metadata": {},
   "outputs": [],
   "source": [
    "data_completa['Hour Order']=data_completa['Order Date'].dt.hour"
   ]
  },
  {
   "cell_type": "code",
   "execution_count": null,
   "id": "4834e43a",
   "metadata": {},
   "outputs": [],
   "source": [
    "data_completa.groupby('Hour Order').sum().sort_values('Quantity Ordered',ascending==False)"
   ]
  },
  {
   "cell_type": "code",
   "execution_count": null,
   "id": "209c8ecf",
   "metadata": {},
   "outputs": [],
   "source": [
    "cantidadVendida_horas= data_completa.groupby('Hour Order').sum()['Quantity Ordered']\n",
    "horas= [hora for hora, df in data_completa.groupby('Hour Order')]\n",
    "plt.plot(horas,cantidadVendida_horas)\n",
    "plt.grid()\n",
    "plt.show"
   ]
  },
  {
   "cell_type": "markdown",
   "id": "31b931fb",
   "metadata": {},
   "source": [
    "#### la hora en donde se venden más  por la noche es a las 7 pm y  por la mañana- tarde es de las 10 am a las 12 pm, donde hay mayor probabilidad que si se lanza un anuncio, ocurra la venta"
   ]
  },
  {
   "cell_type": "markdown",
   "id": "ff2f33c3",
   "metadata": {},
   "source": [
    "### ¿Qué productos se venden juntos con más frecuencia?"
   ]
  },
  {
   "cell_type": "code",
   "execution_count": null,
   "id": "40f53ad7",
   "metadata": {},
   "outputs": [],
   "source": [
    "#duplicated(keep = first obtiene el primero, last obtiene el ultimo , False obtiene todos los registros)\n",
    "df=data_completa[data_completa['Order ID'].duplicated(keep= False)]"
   ]
  },
  {
   "cell_type": "code",
   "execution_count": null,
   "id": "47c21dc2",
   "metadata": {},
   "outputs": [],
   "source": [
    "#df.groupby('Order ID')['Product'] se agrupa por orden y por agrupacion se tiene el nombre de los productos\n",
    "df['Grouped']= df.groupby('Order ID')['Product'].transform(lambda  x: \",\".join(x))"
   ]
  },
  {
   "cell_type": "code",
   "execution_count": null,
   "id": "198ab422",
   "metadata": {},
   "outputs": [],
   "source": [
    "df"
   ]
  },
  {
   "cell_type": "code",
   "execution_count": null,
   "id": "6316c808",
   "metadata": {},
   "outputs": [],
   "source": [
    "#eliminar las filas duplicadas ya que por cada fila se hizo la union de los productos\n",
    "df.drop_duplicates(inplace=True)"
   ]
  },
  {
   "cell_type": "code",
   "execution_count": null,
   "id": "95a9e684",
   "metadata": {},
   "outputs": [],
   "source": [
    "df"
   ]
  },
  {
   "cell_type": "code",
   "execution_count": null,
   "id": "bf45193e",
   "metadata": {},
   "outputs": [],
   "source": [
    "from itertools import combinations\n",
    "from collections import Counter\n",
    "count = Counter()\n",
    "for row in df['Grouped']:\n",
    "    row_list= row.split(',')\n",
    "    count.update(Counter(combinations(row_list,2)))\n",
    "    \n",
    "for key, value in count.most_common(12):\n",
    "    print(key, value)"
   ]
  },
  {
   "cell_type": "markdown",
   "id": "a763cf1a",
   "metadata": {},
   "source": [
    "#### los productos que con mayor frecuencia se venden juntos"
   ]
  },
  {
   "cell_type": "markdown",
   "id": "7231f8c8",
   "metadata": {},
   "source": [
    "## ¿Qué producto se vendió más? ¿Por qué crees que vendió más?"
   ]
  },
  {
   "cell_type": "code",
   "execution_count": null,
   "id": "0860af6e",
   "metadata": {},
   "outputs": [],
   "source": [
    "data_completa.groupby('Product').sum().sort_values('Quantity Ordered', ascending= False)['Quantity Ordered']"
   ]
  },
  {
   "cell_type": "code",
   "execution_count": null,
   "id": "f3ae93bc",
   "metadata": {},
   "outputs": [],
   "source": [
    "#verlo en grafico\n",
    "productos= [product for product,df in data_completa.groupby('Product')]\n",
    "ventas_productos= data_completa.groupby('Product').sum()['Quantity Ordered']\n",
    "plt.bar(productos,ventas_productos)\n",
    "plt.xticks(productos, rotation='vertical', size=15)\n",
    "plt.xlabel(\"productos\")\n",
    "plt.ylabel(\"ventas\")\n",
    "plt.show()\n"
   ]
  },
  {
   "cell_type": "markdown",
   "id": "0958f0fb",
   "metadata": {},
   "source": [
    "#### El producto que mayor se vendio fue AAA Batteries (4-pack), ya que es un producto de menor costo"
   ]
  },
  {
   "cell_type": "code",
   "execution_count": null,
   "id": "d9f7d4ec",
   "metadata": {},
   "outputs": [],
   "source": [
    "#comparar con los precios de los productos\n",
    "precios= data_completa.groupby('Product').mean()['Price Each']"
   ]
  },
  {
   "cell_type": "code",
   "execution_count": null,
   "id": "17961c46",
   "metadata": {},
   "outputs": [],
   "source": [
    "#poner dos graficos en uno solo\n",
    "fit,ax1= plt.subplots()\n",
    "ax2= ax1.twinx()\n",
    "\n",
    "ax1.bar(productos,ventas_productos)\n",
    "ax2.plot(productos,precios, color='red')\n",
    "\n",
    "ax1.set_xlabel(\"productos\")\n",
    "ax1.set_ylabel(\"ventas\")\n",
    "ax2.set_ylabel(\"precios\")\n",
    "ax1.set_xticklabels(productos, rotation='vertical', size=15)\n",
    "plt.show()"
   ]
  },
  {
   "cell_type": "code",
   "execution_count": null,
   "id": "3da9e597",
   "metadata": {},
   "outputs": [],
   "source": []
  }
 ],
 "metadata": {
  "kernelspec": {
   "display_name": "Python 3",
   "language": "python",
   "name": "python3"
  },
  "language_info": {
   "codemirror_mode": {
    "name": "ipython",
    "version": 3
   },
   "file_extension": ".py",
   "mimetype": "text/x-python",
   "name": "python",
   "nbconvert_exporter": "python",
   "pygments_lexer": "ipython3",
   "version": "3.9.1"
  }
 },
 "nbformat": 4,
 "nbformat_minor": 5
}
